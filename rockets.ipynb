{
 "cells": [
  {
   "cell_type": "markdown",
   "id": "90199464",
   "metadata": {},
   "source": [
    "# Ariane 5 Failure: Learning Programming Through a Real Story"
   ]
  },
  {
   "cell_type": "markdown",
   "id": "02d26232",
   "metadata": {},
   "source": [
    "## Introduction"
   ]
  },
  {
   "cell_type": "markdown",
   "id": "c7f97ecb",
   "metadata": {},
   "source": [
    "In 1996, the European Space Agency's Ariane 5 rocket exploded just 37 seconds after launch. The cause? A software bug—specifically, an **integer overflow**. This dramatic failure teaches us the importance of understanding how computers handle data. In this notebook, you'll explore core programming concepts while investigating what went wrong with Ariane 5."
   ]
  },
  {
   "cell_type": "markdown",
   "id": "96e82e4d",
   "metadata": {},
   "source": [
    "## 🧠 Section 1: Primitive Data Types"
   ]
  },
  {
   "cell_type": "markdown",
   "id": "9297a37a",
   "metadata": {},
   "source": [
    "In programming, data types determine what kind of information a variable can store. In Python, there are four commonly used **primitive** data types:\n",
    "\n",
    "- `int` (integer): whole numbers like 10, -5, or 0\n",
    "- `float`: numbers with decimals like 3.14 or -0.001\n",
    "- `str` (string): sequences of characters like \"Ariane\" or \"Lift off!\"\n",
    "- `bool` (boolean): either `True` or `False`\n",
    "\n",
    "We'll use these to describe different properties of a rocket.\n",
    "\n",
    "Run the cell below by clicking 'Shift + Enter' or the run button next to the cell. See what input the cell gives."
   ]
  },
  {
   "cell_type": "code",
   "execution_count": null,
   "id": "de480059",
   "metadata": {},
   "outputs": [],
   "source": [
    "# Primitive data types in action\n",
    "rocket_stage = 2            # int\n",
    "fuel_remaining = 83.7       # float\n",
    "mission_name = \"Ariane 5\"   # str\n",
    "is_ready = True             # bool\n",
    "\n",
    "print(\"Stage:\", rocket_stage)\n",
    "print(\"Fuel Remaining (%):\", fuel_remaining)\n",
    "print(\"Mission:\", mission_name)\n",
    "print(\"Ready for launch:\", is_ready)"
   ]
  },
  {
   "cell_type": "markdown",
   "id": "93982e83",
   "metadata": {},
   "source": [
    "### Code Example:\n",
    "\n",
    "### 🚀 Exercise 1\n",
    "Create variables to represent the following:\n",
    "- The total number of engines on the rocket (integer)\n",
    "- The rocket's initial vertical speed in m/s (float)\n",
    "- The rocket's code name (string)\n",
    "- Whether the rocket has launched (boolean)"
   ]
  },
  {
   "cell_type": "code",
   "execution_count": null,
   "id": "f2daedb9",
   "metadata": {},
   "outputs": [],
   "source": [
    "### Create your variables here"
   ]
  },
  {
   "cell_type": "markdown",
   "id": "722deae5",
   "metadata": {},
   "source": [
    "### 🚀 Exercise 2\n",
    "Print each of your variables using `print()` and describe what type each one is."
   ]
  },
  {
   "cell_type": "code",
   "execution_count": null,
   "id": "efd24ff7",
   "metadata": {},
   "outputs": [],
   "source": [
    "#### Use your print statements to display the values of your variables"
   ]
  },
  {
   "cell_type": "markdown",
   "id": "29c36030",
   "metadata": {},
   "source": [
    "## ➕ Section 2: Operations with Data Types\n",
    "\n",
    "Now that you know what data types are, let's do things with them. You can:\n",
    "\n",
    "- Add, subtract, multiply, and divide numbers\n",
    "- Combine strings (called **concatenation**)\n",
    "- Use logic with booleans\n",
    "\n",
    "These operations help us simulate real-world rocket physics.\n",
    "\n",
    "Run the cell below to get the idea of the operations. Remember, you can click 'Shift + Enter' to run the cell or just click the run button next to the cell."
   ]
  },
  {
   "cell_type": "code",
   "execution_count": null,
   "id": "6f156104",
   "metadata": {},
   "outputs": [],
   "source": [
    "acceleration = 30  # m/s^2\n",
    "launch_time = 5    # seconds\n",
    "final_speed = acceleration * launch_time\n",
    "\n",
    "print(\"Final Speed:\", final_speed, \"m/s\")\n",
    "\n",
    "# Combining strings\n",
    "status = \"Mission \" + mission_name + \" is \" + (\"ready\" if is_ready else \"not ready\")\n",
    "print(status)"
   ]
  },
  {
   "cell_type": "markdown",
   "id": "6e9cb443",
   "metadata": {},
   "source": [
    "### 🚀 Exercise 1\n",
    "If the rocket accelerates at 25 m/s² for 12 seconds, calculate and print the final speed. First, do this on paper and then see if you can code the answer as well. Visualize your answer with printing it."
   ]
  },
  {
   "cell_type": "code",
   "execution_count": null,
   "id": "bb8e1866",
   "metadata": {},
   "outputs": [],
   "source": [
    "### All of your operations here"
   ]
  },
  {
   "cell_type": "markdown",
   "id": "b97f1903",
   "metadata": {},
   "source": [
    "### 🚀 Exercise 2\n",
    "Create a message that includes the mission name, number of engines, and fuel remaining. Use string concatenation and `str()` to convert numbers."
   ]
  },
  {
   "cell_type": "code",
   "execution_count": null,
   "id": "c02b620a",
   "metadata": {},
   "outputs": [],
   "source": [
    "mission_name = ### Name here\n",
    "no_engines = ### Number of engines here\n",
    "fuel_remaining = ### Fuel percentage here\n",
    "\n",
    "message = f\"Mission {mission_name} with {no_engines} engines has {fuel_remaining}% fuel remaining.\"\n",
    "print(message)"
   ]
  },
  {
   "cell_type": "markdown",
   "id": "2f8f0e1f",
   "metadata": {},
   "source": [
    "## 🧩 Section 3: Functions\n",
    "\n",
    "A **function** is a block of code that performs a task. Functions help us avoid repeating code and make programs easier to read. For example, below is an implementation of a function that computes he velocity by multiplying acceleration with time. This comes in handy when we want to do multiple operations with data.\n"
   ]
  },
  {
   "cell_type": "code",
   "execution_count": null,
   "id": "8e9da693",
   "metadata": {},
   "outputs": [],
   "source": [
    "def compute_velocity(acceleration, time):\n",
    "    return acceleration * time\n",
    "\n",
    "print(\"Velocity after 10 seconds:\", compute_velocity(20, 10), \"m/s\")"
   ]
  },
  {
   "cell_type": "markdown",
   "id": "a8048fc1",
   "metadata": {},
   "source": [
    "\n",
    "### 🚀 Exercise\n",
    "Write a function called `compute_distance` that takes speed and time as inputs and returns the distance traveled. Try it out with some example values."
   ]
  },
  {
   "cell_type": "code",
   "execution_count": null,
   "id": "aafdd18f",
   "metadata": {},
   "outputs": [],
   "source": [
    "## Write your function here and test it"
   ]
  },
  {
   "cell_type": "markdown",
   "id": "690b0a90",
   "metadata": {},
   "source": [
    "## 🧨 Section 4: Integer Overflow\n",
    "\n",
    "The Ariane 5 software used a 16-bit signed integer to store a number that became too large during flight. This caused the number to \"wrap around\" into a negative value, leading to system failure.\n",
    "\n",
    "In Python, this doesn't usually happen due to automatic handling of large numbers. But we can simulate what went wrong using NumPy, which mimics real-world hardware limitations.\n",
    "\n",
    "Run the cell below and see what is happening. What does the error message say? What does it mean that the number is out of bounds for 'int16'?\n"
   ]
  },
  {
   "cell_type": "code",
   "execution_count": 2,
   "id": "402286f1",
   "metadata": {},
   "outputs": [
    {
     "ename": "OverflowError",
     "evalue": "Python integer 33000 out of bounds for int16",
     "output_type": "error",
     "traceback": [
      "\u001b[1;31m---------------------------------------------------------------------------\u001b[0m",
      "\u001b[1;31mOverflowError\u001b[0m                             Traceback (most recent call last)",
      "Cell \u001b[1;32mIn[2], line 4\u001b[0m\n\u001b[0;32m      1\u001b[0m \u001b[38;5;28;01mimport\u001b[39;00m \u001b[38;5;21;01mnumpy\u001b[39;00m \u001b[38;5;28;01mas\u001b[39;00m \u001b[38;5;21;01mnp\u001b[39;00m\n\u001b[0;32m      3\u001b[0m \u001b[38;5;66;03m# Simulating a 16-bit integer overflow\u001b[39;00m\n\u001b[1;32m----> 4\u001b[0m value \u001b[38;5;241m=\u001b[39m \u001b[43mnp\u001b[49m\u001b[38;5;241;43m.\u001b[39;49m\u001b[43mint16\u001b[49m\u001b[43m(\u001b[49m\u001b[38;5;241;43m33000\u001b[39;49m\u001b[43m)\u001b[49m\n\u001b[0;32m      5\u001b[0m \u001b[38;5;28mprint\u001b[39m(\u001b[38;5;124m\"\u001b[39m\u001b[38;5;124mBefore overflow:\u001b[39m\u001b[38;5;124m\"\u001b[39m, value)\n\u001b[0;32m      6\u001b[0m value \u001b[38;5;241m+\u001b[39m\u001b[38;5;241m=\u001b[39m \u001b[38;5;241m1000\u001b[39m\n",
      "\u001b[1;31mOverflowError\u001b[0m: Python integer 33000 out of bounds for int16"
     ]
    }
   ],
   "source": [
    "import numpy as np\n",
    "\n",
    "# Simulating a 16-bit integer overflow\n",
    "value = np.int16(33000)\n",
    "print(\"Before overflow:\", value)\n",
    "value += 1000\n",
    "print(\"After overflow:\", value)  # Unexpected result!"
   ]
  },
  {
   "cell_type": "markdown",
   "id": "ef412ed8",
   "metadata": {},
   "source": [
    "### 🚀 Exercise 1\n",
    "Set the value to 32000 and add 2000. What is the result? Why?"
   ]
  },
  {
   "cell_type": "code",
   "execution_count": null,
   "id": "d920eb30",
   "metadata": {},
   "outputs": [],
   "source": [
    "import numpy as np\n",
    "\n",
    "# Simulating a 16-bit integer overflow\n",
    "set_value = ### Set your value here\n",
    "\n",
    "value = np.int16(set_value)\n",
    "print(\"Before overflow:\", value)\n",
    "value += 1000\n",
    "print(\"After overflow:\", value)  # Unexpected result!"
   ]
  },
  {
   "cell_type": "markdown",
   "id": "b0875b2a",
   "metadata": {},
   "source": [
    "### 🚀 Exercise 2\n",
    "Set the value to -32000 and subtract 2000. What happens now?\n",
    "\n",
    "> 💡 *Think about what would happen in a rocket's guidance system if such a number were used for speed or position!*"
   ]
  },
  {
   "cell_type": "code",
   "execution_count": null,
   "id": "51e3175b",
   "metadata": {},
   "outputs": [],
   "source": [
    "import numpy as np\n",
    "\n",
    "# Simulating a 16-bit integer overflow\n",
    "set_value = ### Set your value here\n",
    "\n",
    "value = np.int16(set_value)\n",
    "print(\"Before overflow:\", value)\n",
    "value -= 2000\n",
    "print(\"After overflow:\", value)  # Unexpected result!"
   ]
  },
  {
   "cell_type": "markdown",
   "id": "99c9bee2",
   "metadata": {},
   "source": [
    "## 🎥 Section 5: Ariane 5 Visualization\n",
    "\n",
    "Now let’s see what this kind of error might look like in action. Click the button below to run a **rocket simulation**. The rocket will launch normally—until a hidden integer overflow causes it to behave unexpectedly.\n",
    "\n",
    "You don’t need to read or modify this code—just observe what happens."
   ]
  },
  {
   "cell_type": "code",
   "execution_count": 33,
   "id": "62812e6d",
   "metadata": {},
   "outputs": [
    {
     "name": "stdout",
     "output_type": "stream",
     "text": [
      "TIME: 5.1s - Integer overflow detected! Velocity wraps from 33000 to overflow.\n"
     ]
    },
    {
     "data": {
      "image/png": "[encoded data removed]",
      "text/plain": [
       "<Figure size 1000x600 with 1 Axes>"
      ]
     },
     "metadata": {},
     "output_type": "display_data"
    },
    {
     "name": "stdout",
     "output_type": "stream",
     "text": [
      "\n",
      "What happened: The rocket's velocity exceeded the maximum value that could be stored in a 16-bit integer.\n",
      "This caused an integer overflow, making the velocity suddenly become negative.\n",
      "In the real Ariane 5 failure, this unexpected negative value caused the guidance system to fail.\n"
     ]
    }
   ],
   "source": [
    "%matplotlib inline\n",
    "\n",
    "import matplotlib.pyplot as plt\n",
    "import numpy as np\n",
    "\n",
    "# Create figure\n",
    "fig, ax = plt.subplots(figsize=(10, 6))\n",
    "\n",
    "# Initialize variables\n",
    "y_sim = 0\n",
    "t_sim = 0\n",
    "dt = 0.1\n",
    "v_sim = 0\n",
    "a = 100  # m/s^2\n",
    "overflow_triggered = False\n",
    "x_data = [0]\n",
    "y_data = [0]\n",
    "\n",
    "# Simulate the rocket trajectory\n",
    "for i in range(150):\n",
    "    t_sim += dt\n",
    "    \n",
    "    # Check for overflow condition\n",
    "    if t_sim > 5 and not overflow_triggered:\n",
    "        print(f\"TIME: {t_sim:.1f}s - Integer overflow detected! Velocity wraps from 33000 to overflow.\")\n",
    "        try:\n",
    "            v_sim = np.int16(33000)  # Set to almost max value\n",
    "            v_sim += 6000  # This should trigger overflow\n",
    "        except OverflowError:\n",
    "            # This will execute if an overflow error is raised\n",
    "            v_sim = -31959\n",
    "        finally:\n",
    "            # This will always execute\n",
    "            overflow_triggered = True\n",
    "    else:\n",
    "        v_sim += a * dt\n",
    "        \n",
    "    # Update position\n",
    "    y_sim += v_sim * dt\n",
    "    \n",
    "    # Store data\n",
    "    x_data.append(t_sim)\n",
    "    y_data.append(y_sim)\n",
    "\n",
    "# Setup the plot\n",
    "ax.set_xlim(0, 15)\n",
    "ax.set_ylim(-100, 1500)\n",
    "ax.set_title(\"Ariane 5 Launch Simulation with Integer Overflow\", fontsize=14)\n",
    "ax.set_xlabel(\"Time (s)\")\n",
    "ax.set_ylabel(\"Altitude (m)\")\n",
    "ax.grid(True)\n",
    "\n",
    "# Find the split point\n",
    "split_idx = next((i for i, x in enumerate(x_data) if x > 5), None)\n",
    "\n",
    "# Plot normal trajectory\n",
    "ax.plot(x_data[:split_idx], y_data[:split_idx], 'b-', linewidth=2, label=\"Normal trajectory\")\n",
    "\n",
    "# Plot trajectory after overflow\n",
    "ax.plot(x_data[split_idx-1:], y_data[split_idx-1:], 'r-', linewidth=2, label=\"After overflow\")\n",
    "\n",
    "# Mark the rocket's final position\n",
    "ax.plot(x_data[-1], y_data[-1], 'ro', markersize=10)\n",
    "\n",
    "# Add overflow text\n",
    "ax.text(6, 200, \"INTEGER OVERFLOW!\\nVelocity wrapped to negative\", fontsize=12, color='red')\n",
    "\n",
    "# Add legend\n",
    "ax.legend(loc='upper left')\n",
    "\n",
    "# Show the plot\n",
    "plt.tight_layout()\n",
    "plt.show()\n",
    "\n",
    "# Print explanation\n",
    "print(\"\\nWhat happened: The rocket's velocity exceeded the maximum value that could be stored in a 16-bit integer.\")\n",
    "print(\"This caused an integer overflow, making the velocity suddenly become negative.\")\n",
    "print(\"In the real Ariane 5 failure, this unexpected negative value caused the guidance system to fail.\")"
   ]
  },
  {
   "cell_type": "markdown",
   "id": "97c4acf3",
   "metadata": {},
   "source": [
    "## 🎓 Conclusion\n",
    "\n",
    "You've just explored how small mistakes in programming—like using the wrong data type—can lead to massive failures. Ariane 5 teaches us that even in space exploration, understanding basics like data types, functions, and overflow is critical.\n",
    "\n",
    "Want to go further? Try rewriting this simulation to prevent the overflow!"
   ]
  }
 ],
 "metadata": {
  "kernelspec": {
   "display_name": "Python 3",
   "language": "python",
   "name": "python3"
  },
  "language_info": {
   "codemirror_mode": {
    "name": "ipython",
    "version": 3
   },
   "file_extension": ".py",
   "mimetype": "text/x-python",
   "name": "python",
   "nbconvert_exporter": "python",
   "pygments_lexer": "ipython3",
   "version": "3.12.6"
  }
 },
 "nbformat": 4,
 "nbformat_minor": 5
}
